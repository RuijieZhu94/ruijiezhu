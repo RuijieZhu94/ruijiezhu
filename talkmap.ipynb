{
 "cells": [
  {
   "cell_type": "markdown",
   "metadata": {},
   "source": [
    "# Leaflet cluster map of talk locations\n",
    "\n",
    "Run this from the _talks/ directory, which contains .md files of all your talks. This scrapes the location YAML field from each .md file, geolocates it with geopy/Nominatim, and uses the getorg library to output data, HTML, and Javascript for a standalone cluster map."
   ]
  },
  {
   "cell_type": "code",
   "execution_count": 2,
   "metadata": {
    "collapsed": false
   },
   "outputs": [
    {
     "name": "stdout",
     "output_type": "stream",
     "text": [
      "Looking in indexes: https://pypi.tuna.tsinghua.edu.cn/simple\n",
      "Requirement already satisfied: getorg in /ssd/zrj/miniconda3/lib/python3.9/site-packages (0.3.1)\n",
      "Requirement already satisfied: retrying in /ssd/zrj/miniconda3/lib/python3.9/site-packages (from getorg) (1.3.4)\n",
      "Requirement already satisfied: geopy in /ssd/zrj/miniconda3/lib/python3.9/site-packages (from getorg) (2.4.1)\n",
      "Requirement already satisfied: pygithub in /ssd/zrj/miniconda3/lib/python3.9/site-packages (from getorg) (2.1.1)\n",
      "Requirement already satisfied: geographiclib<3,>=1.52 in /ssd/zrj/miniconda3/lib/python3.9/site-packages (from geopy->getorg) (2.0)\n",
      "Requirement already satisfied: pynacl>=1.4.0 in /ssd/zrj/miniconda3/lib/python3.9/site-packages (from pygithub->getorg) (1.5.0)\n",
      "Requirement already satisfied: requests>=2.14.0 in /ssd/zrj/miniconda3/lib/python3.9/site-packages (from pygithub->getorg) (2.27.1)\n",
      "Requirement already satisfied: urllib3>=1.26.0 in /ssd/zrj/miniconda3/lib/python3.9/site-packages (from pygithub->getorg) (1.26.7)\n",
      "Requirement already satisfied: python-dateutil in /ssd/zrj/miniconda3/lib/python3.9/site-packages (from pygithub->getorg) (2.8.2)\n",
      "Requirement already satisfied: Deprecated in /ssd/zrj/miniconda3/lib/python3.9/site-packages (from pygithub->getorg) (1.2.14)\n",
      "Requirement already satisfied: pyjwt[crypto]>=2.4.0 in /ssd/zrj/miniconda3/lib/python3.9/site-packages (from pygithub->getorg) (2.8.0)\n",
      "Requirement already satisfied: typing-extensions>=4.0.0 in /ssd/zrj/miniconda3/lib/python3.9/site-packages (from pygithub->getorg) (4.8.0)\n",
      "Requirement already satisfied: six>=1.7.0 in /ssd/zrj/miniconda3/lib/python3.9/site-packages (from retrying->getorg) (1.16.0)\n",
      "Requirement already satisfied: cryptography>=3.4.0 in /ssd/zrj/miniconda3/lib/python3.9/site-packages (from pyjwt[crypto]>=2.4.0->pygithub->getorg) (36.0.0)\n",
      "Requirement already satisfied: cffi>=1.4.1 in /ssd/zrj/miniconda3/lib/python3.9/site-packages (from pynacl>=1.4.0->pygithub->getorg) (1.15.0)\n",
      "Requirement already satisfied: certifi>=2017.4.17 in /ssd/zrj/miniconda3/lib/python3.9/site-packages (from requests>=2.14.0->pygithub->getorg) (2023.11.17)\n",
      "Requirement already satisfied: idna<4,>=2.5 in /ssd/zrj/miniconda3/lib/python3.9/site-packages (from requests>=2.14.0->pygithub->getorg) (3.3)\n",
      "Requirement already satisfied: charset-normalizer~=2.0.0 in /ssd/zrj/miniconda3/lib/python3.9/site-packages (from requests>=2.14.0->pygithub->getorg) (2.0.4)\n",
      "Requirement already satisfied: wrapt<2,>=1.10 in /ssd/zrj/miniconda3/lib/python3.9/site-packages (from Deprecated->pygithub->getorg) (1.16.0)\n",
      "Requirement already satisfied: pycparser in /ssd/zrj/miniconda3/lib/python3.9/site-packages (from cffi>=1.4.1->pynacl>=1.4.0->pygithub->getorg) (2.21)\n",
      "\u001b[33mWARNING: You are using pip version 22.0.4; however, version 23.3.1 is available.\n",
      "You should consider upgrading via the '/ssd/zrj/miniconda3/bin/python -m pip install --upgrade pip' command.\u001b[0m\u001b[33m\n",
      "\u001b[0mIywidgets and ipyleaflet support disabled. You must be in a Jupyter notebook to use this feature.\n",
      "Error raised:\n",
      "No module named 'ipyleaflet'\n",
      "Check that you have enabled ipyleaflet in Jupyter with:\n",
      "    jupyter nbextension enable --py ipyleaflet\n"
     ]
    }
   ],
   "source": [
    "!pip install getorg --upgrade\n",
    "import glob\n",
    "import getorg\n",
    "from geopy import Nominatim"
   ]
  },
  {
   "cell_type": "code",
   "execution_count": 9,
   "metadata": {
    "collapsed": false
   },
   "outputs": [],
   "source": [
    "g = glob.glob(\"_talks/*.md\")"
   ]
  },
  {
   "cell_type": "code",
   "execution_count": 10,
   "metadata": {
    "collapsed": true
   },
   "outputs": [],
   "source": [
    "geocoder = Nominatim(user_agent=\"http\")\n",
    "location_dict = {}\n",
    "location = \"\"\n",
    "permalink = \"\"\n",
    "title = \"\""
   ]
  },
  {
   "cell_type": "code",
   "execution_count": 14,
   "metadata": {
    "collapsed": false
   },
   "outputs": [
    {
     "name": "stdout",
     "output_type": "stream",
     "text": [
      "Online, Paris \n",
      " One World, Rue du Faubourg Saint-Denis, Quartier Saint-Vincent-de-Paul, Paris 10e Arrondissement, Paris, Île-de-France, France métropolitaine, 75010, France\n",
      "Online, TEL AVIV \n",
      " חדר תה של ליפפי, 125, השלום, תל אביב - יפו, רמת הטייסים, תל אביב-יפו, נפת תל אביב, מחוז תל אביב, 5223403, ישראל\n",
      "Online, London \n",
      " DBS Check Online UK, 22-25, Portman Close, Marylebone, London, Greater London, England, W1H 6BS, United Kingdom\n"
     ]
    }
   ],
   "source": [
    "\n",
    "for file in g:\n",
    "    with open(file, 'r') as f:\n",
    "        lines = f.read()\n",
    "        if lines.find('location: \"') > 1:\n",
    "            loc_start = lines.find('location: \"') + 11\n",
    "            lines_trim = lines[loc_start:]\n",
    "            loc_end = lines_trim.find('\"')\n",
    "            location = lines_trim[:loc_end]\n",
    "                            \n",
    "           \n",
    "        location_dict[location] = geocoder.geocode(location)\n",
    "        print(location, \"\\n\", location_dict[location])\n"
   ]
  },
  {
   "cell_type": "code",
   "execution_count": 15,
   "metadata": {
    "collapsed": false
   },
   "outputs": [
    {
     "data": {
      "text/plain": [
       "'Written map to ../talkmap/'"
      ]
     },
     "execution_count": 15,
     "metadata": {},
     "output_type": "execute_result"
    }
   ],
   "source": [
    "m = getorg.orgmap.create_map_obj()\n",
    "getorg.orgmap.output_html_cluster_map(location_dict, folder_name=\"../talkmap\", hashed_usernames=False)"
   ]
  },
  {
   "cell_type": "code",
   "execution_count": null,
   "metadata": {
    "collapsed": true
   },
   "outputs": [],
   "source": []
  }
 ],
 "metadata": {
  "anaconda-cloud": {},
  "kernelspec": {
   "display_name": "base",
   "language": "python",
   "name": "python3"
  },
  "language_info": {
   "codemirror_mode": {
    "name": "ipython",
    "version": 3
   },
   "file_extension": ".py",
   "mimetype": "text/x-python",
   "name": "python",
   "nbconvert_exporter": "python",
   "pygments_lexer": "ipython3",
   "version": "3.9.7"
  }
 },
 "nbformat": 4,
 "nbformat_minor": 0
}
